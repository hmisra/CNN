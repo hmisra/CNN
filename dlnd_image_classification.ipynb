{
 "cells": [
  {
   "cell_type": "markdown",
   "metadata": {
    "collapsed": true
   },
   "source": [
    "# Image Classification\n",
    "In this project, you'll classify images from the [CIFAR-10 dataset](https://www.cs.toronto.edu/~kriz/cifar.html).  The dataset consists of airplanes, dogs, cats, and other objects. You'll preprocess the images, then train a convolutional neural network on all the samples. The images need to be normalized and the labels need to be one-hot encoded.  You'll get to apply what you learned and build a convolutional, max pooling, dropout, and fully connected layers.  At the end, you'll get to see your neural network's predictions on the sample images.\n",
    "## Get the Data\n",
    "Run the following cell to download the [CIFAR-10 dataset for python](https://www.cs.toronto.edu/~kriz/cifar-10-python.tar.gz)."
   ]
  },
  {
   "cell_type": "code",
   "execution_count": 2,
   "metadata": {
    "collapsed": false
   },
   "outputs": [
    {
     "name": "stdout",
     "output_type": "stream",
     "text": [
      "All files found!\n"
     ]
    }
   ],
   "source": [
    "\"\"\"\n",
    "DON'T MODIFY ANYTHING IN THIS CELL THAT IS BELOW THIS LINE\n",
    "\"\"\"\n",
    "from urllib.request import urlretrieve\n",
    "from os.path import isfile, isdir\n",
    "from tqdm import tqdm\n",
    "import problem_unittests as tests\n",
    "import tarfile\n",
    "\n",
    "cifar10_dataset_folder_path = 'cifar-10-batches-py'\n",
    "\n",
    "# Use Floyd's cifar-10 dataset if present\n",
    "floyd_cifar10_location = '/input/cifar-10/python.tar.gz'\n",
    "if isfile(floyd_cifar10_location):\n",
    "    tar_gz_path = floyd_cifar10_location\n",
    "else:\n",
    "    tar_gz_path = 'cifar-10-python.tar.gz'\n",
    "\n",
    "class DLProgress(tqdm):\n",
    "    last_block = 0\n",
    "\n",
    "    def hook(self, block_num=1, block_size=1, total_size=None):\n",
    "        self.total = total_size\n",
    "        self.update((block_num - self.last_block) * block_size)\n",
    "        self.last_block = block_num\n",
    "\n",
    "if not isfile(tar_gz_path):\n",
    "    with DLProgress(unit='B', unit_scale=True, miniters=1, desc='CIFAR-10 Dataset') as pbar:\n",
    "        urlretrieve(\n",
    "            'https://www.cs.toronto.edu/~kriz/cifar-10-python.tar.gz',\n",
    "            tar_gz_path,\n",
    "            pbar.hook)\n",
    "\n",
    "if not isdir(cifar10_dataset_folder_path):\n",
    "    with tarfile.open(tar_gz_path) as tar:\n",
    "        tar.extractall()\n",
    "        tar.close()\n",
    "\n",
    "\n",
    "tests.test_folder_path(cifar10_dataset_folder_path)"
   ]
  },
  {
   "cell_type": "markdown",
   "metadata": {},
   "source": [
    "## Explore the Data\n",
    "The dataset is broken into batches to prevent your machine from running out of memory.  The CIFAR-10 dataset consists of 5 batches, named `data_batch_1`, `data_batch_2`, etc.. Each batch contains the labels and images that are one of the following:\n",
    "* airplane\n",
    "* automobile\n",
    "* bird\n",
    "* cat\n",
    "* deer\n",
    "* dog\n",
    "* frog\n",
    "* horse\n",
    "* ship\n",
    "* truck\n",
    "\n",
    "Understanding a dataset is part of making predictions on the data.  Play around with the code cell below by changing the `batch_id` and `sample_id`. The `batch_id` is the id for a batch (1-5). The `sample_id` is the id for a image and label pair in the batch.\n",
    "\n",
    "Ask yourself \"What are all possible labels?\", \"What is the range of values for the image data?\", \"Are the labels in order or random?\".  Answers to questions like these will help you preprocess the data and end up with better predictions."
   ]
  },
  {
   "cell_type": "code",
   "execution_count": 3,
   "metadata": {
    "collapsed": false
   },
   "outputs": [
    {
     "name": "stdout",
     "output_type": "stream",
     "text": [
      "\n",
      "Stats of batch 1:\n",
      "Samples: 10000\n",
      "Label Counts: {0: 1005, 1: 974, 2: 1032, 3: 1016, 4: 999, 5: 937, 6: 1030, 7: 1001, 8: 1025, 9: 981}\n",
      "First 20 Labels: [6, 9, 9, 4, 1, 1, 2, 7, 8, 3, 4, 7, 7, 2, 9, 9, 9, 3, 2, 6]\n",
      "\n",
      "Example of Image 2:\n",
      "Image - Min Value: 20 Max Value: 255\n",
      "Image - Shape: (32, 32, 3)\n",
      "Label - Label Id: 9 Name: truck\n"
     ]
    },
    {
     "data": {
      "image/png": "[encoded data removed]",
      "text/plain": [
       "<matplotlib.figure.Figure at 0x11cd28e80>"
      ]
     },
     "metadata": {
      "image/png": {
       "height": 250,
       "width": 253
      }
     },
     "output_type": "display_data"
    }
   ],
   "source": [
    "%matplotlib inline\n",
    "%config InlineBackend.figure_format = 'retina'\n",
    "\n",
    "import helper\n",
    "import numpy as np\n",
    "\n",
    "# Explore the dataset\n",
    "batch_id = 1\n",
    "sample_id = 2\n",
    "helper.display_stats(cifar10_dataset_folder_path, batch_id, sample_id)\n",
    "\n",
    "\n",
    "# frog truck deer automobile bird horse ship cat"
   ]
  },
  {
   "cell_type": "markdown",
   "metadata": {},
   "source": [
    "# Implement Preprocess Functions\n",
    "### Normalize\n",
    "In the cell below, implement the `normalize` function to take in image data, `x`, and return it as a normalized Numpy array. The values should be in the range of 0 to 1, inclusive.  The return object should be the same shape as `x`."
   ]
  },
  {
   "cell_type": "code",
   "execution_count": 4,
   "metadata": {
    "collapsed": false
   },
   "outputs": [
    {
     "name": "stdout",
     "output_type": "stream",
     "text": [
      "Tests Passed\n"
     ]
    }
   ],
   "source": [
    "def normalize(x):\n",
    "    \"\"\"\n",
    "    Normalize a list of sample image data in the range of 0 to 1\n",
    "    : x: List of image data.  The image shape is (32, 32, 3)\n",
    "    : return: Numpy array of normalize data\n",
    "    \"\"\"\n",
    "    # TODO: Implement Function\n",
    "    return x/255\n",
    "\n",
    "\n",
    "\"\"\"\n",
    "DON'T MODIFY ANYTHING IN THIS CELL THAT IS BELOW THIS LINE\n",
    "\"\"\"\n",
    "tests.test_normalize(normalize)"
   ]
  },
  {
   "cell_type": "markdown",
   "metadata": {},
   "source": [
    "### One-hot encode\n",
    "Just like the previous code cell, you'll be implementing a function for preprocessing.  This time, you'll implement the `one_hot_encode` function. The input, `x`, are a list of labels.  Implement the function to return the list of labels as One-Hot encoded Numpy array.  The possible values for labels are 0 to 9. The one-hot encoding function should return the same encoding for each value between each call to `one_hot_encode`.  Make sure to save the map of encodings outside the function.\n",
    "\n",
    "Hint: Don't reinvent the wheel."
   ]
  },
  {
   "cell_type": "code",
   "execution_count": 5,
   "metadata": {
    "collapsed": false
   },
   "outputs": [
    {
     "name": "stdout",
     "output_type": "stream",
     "text": [
      "Tests Passed\n"
     ]
    }
   ],
   "source": [
    "def one_hot_encode(x):\n",
    "    \"\"\"\n",
    "    One hot encode a list of sample labels. Return a one-hot encoded vector for each label.\n",
    "    : x: List of sample Labels\n",
    "    : return: Numpy array of one-hot encoded labels\n",
    "    \"\"\"\n",
    "    # TODO: Implement Function\n",
    "    out = np.zeros((len(x), 10))\n",
    "    out[np.arange(len(x)), x] = 1\n",
    "    return out\n",
    "\n",
    "\n",
    "\"\"\"\n",
    "DON'T MODIFY ANYTHING IN THIS CELL THAT IS BELOW THIS LINE\n",
    "\"\"\"\n",
    "tests.test_one_hot_encode(one_hot_encode)"
   ]
  },
  {
   "cell_type": "markdown",
   "metadata": {},
   "source": [
    "### Randomize Data\n",
    "As you saw from exploring the data above, the order of the samples are randomized.  It doesn't hurt to randomize it again, but you don't need to for this dataset."
   ]
  },
  {
   "cell_type": "markdown",
   "metadata": {},
   "source": [
    "## Preprocess all the data and save it\n",
    "Running the code cell below will preprocess all the CIFAR-10 data and save it to file. The code below also uses 10% of the training data for validation."
   ]
  },
  {
   "cell_type": "code",
   "execution_count": 6,
   "metadata": {
    "collapsed": false
   },
   "outputs": [],
   "source": [
    "\"\"\"\n",
    "DON'T MODIFY ANYTHING IN THIS CELL\n",
    "\"\"\"\n",
    "# Preprocess Training, Validation, and Testing Data\n",
    "helper.preprocess_and_save_data(cifar10_dataset_folder_path, normalize, one_hot_encode)"
   ]
  },
  {
   "cell_type": "markdown",
   "metadata": {},
   "source": [
    "# Check Point\n",
    "This is your first checkpoint.  If you ever decide to come back to this notebook or have to restart the notebook, you can start from here.  The preprocessed data has been saved to disk."
   ]
  },
  {
   "cell_type": "code",
   "execution_count": 7,
   "metadata": {
    "collapsed": true
   },
   "outputs": [],
   "source": [
    "\"\"\"\n",
    "DON'T MODIFY ANYTHING IN THIS CELL\n",
    "\"\"\"\n",
    "import pickle\n",
    "import problem_unittests as tests\n",
    "import helper\n",
    "\n",
    "# Load the Preprocessed Validation data\n",
    "valid_features, valid_labels = pickle.load(open('preprocess_validation.p', mode='rb'))"
   ]
  },
  {
   "cell_type": "markdown",
   "metadata": {},
   "source": [
    "## Build the network\n",
    "For the neural network, you'll build each layer into a function.  Most of the code you've seen has been outside of functions. To test your code more thoroughly, we require that you put each layer in a function.  This allows us to give you better feedback and test for simple mistakes using our unittests before you submit your project.\n",
    "\n",
    ">**Note:** If you're finding it hard to dedicate enough time for this course each week, we've provided a small shortcut to this part of the project. In the next couple of problems, you'll have the option to use classes from the [TensorFlow Layers](https://www.tensorflow.org/api_docs/python/tf/layers) or [TensorFlow Layers (contrib)](https://www.tensorflow.org/api_guides/python/contrib.layers) packages to build each layer, except the layers you build in the \"Convolutional and Max Pooling Layer\" section.  TF Layers is similar to Keras's and TFLearn's abstraction to layers, so it's easy to pickup.\n",
    "\n",
    ">However, if you would like to get the most out of this course, try to solve all the problems _without_ using anything from the TF Layers packages. You **can** still use classes from other packages that happen to have the same name as ones you find in TF Layers! For example, instead of using the TF Layers version of the `conv2d` class, [tf.layers.conv2d](https://www.tensorflow.org/api_docs/python/tf/layers/conv2d), you would want to use the TF Neural Network version of `conv2d`, [tf.nn.conv2d](https://www.tensorflow.org/api_docs/python/tf/nn/conv2d). \n",
    "\n",
    "Let's begin!\n",
    "\n",
    "### Input\n",
    "The neural network needs to read the image data, one-hot encoded labels, and dropout keep probability. Implement the following functions\n",
    "* Implement `neural_net_image_input`\n",
    " * Return a [TF Placeholder](https://www.tensorflow.org/api_docs/python/tf/placeholder)\n",
    " * Set the shape using `image_shape` with batch size set to `None`.\n",
    " * Name the TensorFlow placeholder \"x\" using the TensorFlow `name` parameter in the [TF Placeholder](https://www.tensorflow.org/api_docs/python/tf/placeholder).\n",
    "* Implement `neural_net_label_input`\n",
    " * Return a [TF Placeholder](https://www.tensorflow.org/api_docs/python/tf/placeholder)\n",
    " * Set the shape using `n_classes` with batch size set to `None`.\n",
    " * Name the TensorFlow placeholder \"y\" using the TensorFlow `name` parameter in the [TF Placeholder](https://www.tensorflow.org/api_docs/python/tf/placeholder).\n",
    "* Implement `neural_net_keep_prob_input`\n",
    " * Return a [TF Placeholder](https://www.tensorflow.org/api_docs/python/tf/placeholder) for dropout keep probability.\n",
    " * Name the TensorFlow placeholder \"keep_prob\" using the TensorFlow `name` parameter in the [TF Placeholder](https://www.tensorflow.org/api_docs/python/tf/placeholder).\n",
    "\n",
    "These names will be used at the end of the project to load your saved model.\n",
    "\n",
    "Note: `None` for shapes in TensorFlow allow for a dynamic size."
   ]
  },
  {
   "cell_type": "code",
   "execution_count": 8,
   "metadata": {
    "collapsed": false
   },
   "outputs": [
    {
     "name": "stdout",
     "output_type": "stream",
     "text": [
      "Image Input Tests Passed.\n",
      "Label Input Tests Passed.\n",
      "Keep Prob Tests Passed.\n"
     ]
    }
   ],
   "source": [
    "import tensorflow as tf\n",
    "\n",
    "def neural_net_image_input(image_shape):\n",
    "    \"\"\"\n",
    "    Return a Tensor for a batch of image input\n",
    "    : image_shape: Shape of the images\n",
    "    : return: Tensor for image input.\n",
    "    \"\"\"\n",
    "    # TODO: Implement Function\n",
    "    return tf.placeholder(tf.float32, [None]+list(image_shape), name = 'x')\n",
    "\n",
    "\n",
    "def neural_net_label_input(n_classes):\n",
    "    \"\"\"\n",
    "    Return a Tensor for a batch of label input\n",
    "    : n_classes: Number of classes\n",
    "    : return: Tensor for label input.\n",
    "    \"\"\"\n",
    "    # TODO: Implement Function\n",
    "    return tf.placeholder(tf.float32, [None, n_classes], name = 'y')\n",
    "\n",
    "\n",
    "def neural_net_keep_prob_input():\n",
    "    \"\"\"\n",
    "    Return a Tensor for keep probability\n",
    "    : return: Tensor for keep probability.\n",
    "    \"\"\"\n",
    "    # TODO: Implement Function\n",
    "    return tf.placeholder(tf.float32, name = 'keep_prob')\n",
    "\n",
    "\n",
    "\"\"\"\n",
    "DON'T MODIFY ANYTHING IN THIS CELL THAT IS BELOW THIS LINE\n",
    "\"\"\"\n",
    "tf.reset_default_graph()\n",
    "tests.test_nn_image_inputs(neural_net_image_input)\n",
    "tests.test_nn_label_inputs(neural_net_label_input)\n",
    "tests.test_nn_keep_prob_inputs(neural_net_keep_prob_input)"
   ]
  },
  {
   "cell_type": "markdown",
   "metadata": {},
   "source": [
    "### Convolution and Max Pooling Layer\n",
    "Convolution layers have a lot of success with images. For this code cell, you should implement the function `conv2d_maxpool` to apply convolution then max pooling:\n",
    "* Create the weight and bias using `conv_ksize`, `conv_num_outputs` and the shape of `x_tensor`.\n",
    "* Apply a convolution to `x_tensor` using weight and `conv_strides`.\n",
    " * We recommend you use same padding, but you're welcome to use any padding.\n",
    "* Add bias\n",
    "* Add a nonlinear activation to the convolution.\n",
    "* Apply Max Pooling using `pool_ksize` and `pool_strides`.\n",
    " * We recommend you use same padding, but you're welcome to use any padding.\n",
    "\n",
    "**Note:** You **can't** use [TensorFlow Layers](https://www.tensorflow.org/api_docs/python/tf/layers) or [TensorFlow Layers (contrib)](https://www.tensorflow.org/api_guides/python/contrib.layers) for **this** layer, but you can still use TensorFlow's [Neural Network](https://www.tensorflow.org/api_docs/python/tf/nn) package. You may still use the shortcut option for all the **other** layers."
   ]
  },
  {
   "cell_type": "code",
   "execution_count": 9,
   "metadata": {
    "collapsed": false
   },
   "outputs": [
    {
     "name": "stdout",
     "output_type": "stream",
     "text": [
      "Tests Passed\n"
     ]
    }
   ],
   "source": [
    "def conv2d_maxpool(x_tensor, conv_num_outputs, conv_ksize, conv_strides, pool_ksize, pool_strides):\n",
    "    \"\"\"\n",
    "    Apply convolution then max pooling to x_tensor\n",
    "    :param x_tensor: TensorFlow Tensor\n",
    "    :param conv_num_outputs: Number of outputs for the convolutional layer\n",
    "    :param conv_ksize: kernal size 2-D Tuple for the convolutional layer\n",
    "    :param conv_strides: Stride 2-D Tuple for convolution\n",
    "    :param pool_ksize: kernal size 2-D Tuple for pool\n",
    "    :param pool_strides: Stride 2-D Tuple for pool\n",
    "    : return: A tensor that represents convolution and max pooling of x_tensor\n",
    "    \"\"\"\n",
    "    # TODO: Implement Function\n",
    "    \n",
    "    bias = tf.Variable( tf.truncated_normal([conv_num_outputs], stddev=0.05))\n",
    "    weight = tf.Variable( tf.truncated_normal([conv_ksize[0], conv_ksize[1], int(x_tensor.shape.as_list()[3]), conv_num_outputs], \n",
    "                                             stddev=0.05), name = 'weights')\n",
    "    \n",
    "    # Convolution Layer with relu activation\n",
    "    network = tf.nn.conv2d(x_tensor, weight, strides = [1, conv_strides[0], conv_strides[1], 1], padding = \"SAME\")\n",
    "    network = tf.nn.bias_add(network, bias)\n",
    "    network = tf.nn.relu(network)\n",
    "    \n",
    "    \n",
    "    # Max Pool Layer\n",
    "    \n",
    "    network = tf.nn.max_pool(network, strides=[1,pool_strides[0], pool_strides[1],1], ksize = [1, pool_ksize[0], pool_ksize[1], 1], padding = \"SAME\")\n",
    "    return network \n",
    "\n",
    "    \n",
    "   \n",
    "\"\"\"\n",
    "DON'T MODIFY ANYTHING IN THIS CELL THAT IS BELOW THIS LINE\n",
    "\"\"\"\n",
    "tests.test_con_pool(conv2d_maxpool)"
   ]
  },
  {
   "cell_type": "markdown",
   "metadata": {},
   "source": [
    "### Flatten Layer\n",
    "Implement the `flatten` function to change the dimension of `x_tensor` from a 4-D tensor to a 2-D tensor.  The output should be the shape (*Batch Size*, *Flattened Image Size*). Shortcut option: you can use classes from the [TensorFlow Layers](https://www.tensorflow.org/api_docs/python/tf/layers) or [TensorFlow Layers (contrib)](https://www.tensorflow.org/api_guides/python/contrib.layers) packages for this layer. For more of a challenge, only use other TensorFlow packages."
   ]
  },
  {
   "cell_type": "code",
   "execution_count": 10,
   "metadata": {
    "collapsed": false
   },
   "outputs": [
    {
     "name": "stdout",
     "output_type": "stream",
     "text": [
      "Tests Passed\n"
     ]
    }
   ],
   "source": [
    "def flatten(x_tensor):\n",
    "    \"\"\"\n",
    "    Flatten x_tensor to (Batch Size, Flattened Image Size)\n",
    "    : x_tensor: A tensor of size (Batch Size, ...), where ... are the image dimensions.\n",
    "    : return: A tensor of size (Batch Size, Flattened Image Size).\n",
    "    \"\"\"\n",
    "    # TODO: Implement Function\n",
    "    return tf.reshape(x_tensor, [-1, x_tensor.shape.as_list()[1]* x_tensor.shape.as_list()[2]* x_tensor.shape.as_list()[3]])\n",
    "\n",
    "\n",
    "\"\"\"\n",
    "DON'T MODIFY ANYTHING IN THIS CELL THAT IS BELOW THIS LINE\n",
    "\"\"\"\n",
    "tests.test_flatten(flatten)"
   ]
  },
  {
   "cell_type": "markdown",
   "metadata": {},
   "source": [
    "### Fully-Connected Layer\n",
    "Implement the `fully_conn` function to apply a fully connected layer to `x_tensor` with the shape (*Batch Size*, *num_outputs*). Shortcut option: you can use classes from the [TensorFlow Layers](https://www.tensorflow.org/api_docs/python/tf/layers) or [TensorFlow Layers (contrib)](https://www.tensorflow.org/api_guides/python/contrib.layers) packages for this layer. For more of a challenge, only use other TensorFlow packages."
   ]
  },
  {
   "cell_type": "code",
   "execution_count": 11,
   "metadata": {
    "collapsed": false
   },
   "outputs": [
    {
     "name": "stdout",
     "output_type": "stream",
     "text": [
      "Tests Passed\n"
     ]
    }
   ],
   "source": [
    "def fully_conn(x_tensor, num_outputs):\n",
    "    \"\"\"\n",
    "    Apply a fully connected layer to x_tensor using weight and bias\n",
    "    : x_tensor: A 2-D tensor where the first dimension is batch size.\n",
    "    : num_outputs: The number of output that the new tensor should be.\n",
    "    : return: A 2-D tensor where the second dimension is num_outputs.\n",
    "    \"\"\"\n",
    "    # TODO: Implement Function\n",
    "    \n",
    "    weight = tf.Variable(tf.truncated_normal([x_tensor.shape.as_list()[1], num_outputs]))\n",
    "    bias = tf.Variable(tf.truncated_normal([num_outputs]))\n",
    "    \n",
    "    return tf.nn.relu(tf.add(tf.matmul(x_tensor, weight), bias))\n",
    "\n",
    "\n",
    "\"\"\"\n",
    "DON'T MODIFY ANYTHING IN THIS CELL THAT IS BELOW THIS LINE\n",
    "\"\"\"\n",
    "tests.test_fully_conn(fully_conn)"
   ]
  },
  {
   "cell_type": "markdown",
   "metadata": {},
   "source": [
    "### Output Layer\n",
    "Implement the `output` function to apply a fully connected layer to `x_tensor` with the shape (*Batch Size*, *num_outputs*). Shortcut option: you can use classes from the [TensorFlow Layers](https://www.tensorflow.org/api_docs/python/tf/layers) or [TensorFlow Layers (contrib)](https://www.tensorflow.org/api_guides/python/contrib.layers) packages for this layer. For more of a challenge, only use other TensorFlow packages.\n",
    "\n",
    "**Note:** Activation, softmax, or cross entropy should **not** be applied to this."
   ]
  },
  {
   "cell_type": "code",
   "execution_count": 12,
   "metadata": {
    "collapsed": false
   },
   "outputs": [
    {
     "name": "stdout",
     "output_type": "stream",
     "text": [
      "Tests Passed\n"
     ]
    }
   ],
   "source": [
    "def output(x_tensor, num_outputs):\n",
    "    \"\"\"\n",
    "    Apply a output layer to x_tensor using weight and bias\n",
    "    : x_tensor: A 2-D tensor where the first dimension is batch size.\n",
    "    : num_outputs: The number of output that the new tensor should be.\n",
    "    : return: A 2-D tensor where the second dimension is num_outputs.\n",
    "    \"\"\"\n",
    "    # TODO: Implement Function\n",
    "    weight = tf.Variable(tf.truncated_normal([x_tensor.shape.as_list()[1], num_outputs]))\n",
    "    bias = tf.Variable(tf.truncated_normal([num_outputs]))\n",
    "    \n",
    "    return tf.add(tf.matmul(x_tensor, weight), bias)\n",
    "    \n",
    "\n",
    "\n",
    "\"\"\"\n",
    "DON'T MODIFY ANYTHING IN THIS CELL THAT IS BELOW THIS LINE\n",
    "\"\"\"\n",
    "tests.test_output(output)"
   ]
  },
  {
   "cell_type": "markdown",
   "metadata": {},
   "source": [
    "### Create Convolutional Model\n",
    "Implement the function `conv_net` to create a convolutional neural network model. The function takes in a batch of images, `x`, and outputs logits.  Use the layers you created above to create this model:\n",
    "\n",
    "* Apply 1, 2, or 3 Convolution and Max Pool layers\n",
    "* Apply a Flatten Layer\n",
    "* Apply 1, 2, or 3 Fully Connected Layers\n",
    "* Apply an Output Layer\n",
    "* Return the output\n",
    "* Apply [TensorFlow's Dropout](https://www.tensorflow.org/api_docs/python/tf/nn/dropout) to one or more layers in the model using `keep_prob`. "
   ]
  },
  {
   "cell_type": "code",
   "execution_count": 13,
   "metadata": {
    "collapsed": false
   },
   "outputs": [
    {
     "name": "stdout",
     "output_type": "stream",
     "text": [
      "Neural Network Built!\n"
     ]
    }
   ],
   "source": [
    "def conv_net(x, keep_prob):\n",
    "    \"\"\"\n",
    "    Create a convolutional neural network model\n",
    "    : x: Placeholder tensor that holds image data.\n",
    "    : keep_prob: Placeholder tensor that hold dropout keep probability.\n",
    "    : return: Tensor that represents logits\n",
    "    \"\"\"\n",
    "    # TODO: Apply 1, 2, or 3 Convolution and Max Pool layers\n",
    "    #    Play around with different number of outputs, kernel size and stride\n",
    "    # Function Definition from Above:\n",
    "    #    conv2d_maxpool(x_tensor, conv_num_outputs, conv_ksize, conv_strides, pool_ksize, pool_strides)\n",
    "    \n",
    "    \n",
    "    \n",
    "    network = conv2d_maxpool(x, conv_num_outputs=50, \n",
    "                           conv_ksize=(5, 5), \n",
    "                           conv_strides=(1, 1), \n",
    "                           pool_ksize=(2, 2), \n",
    "                           pool_strides=(2, 2))\n",
    "    network = conv2d_maxpool(x, conv_num_outputs=100, \n",
    "                           conv_ksize=(5, 5), \n",
    "                           conv_strides=(1, 1), \n",
    "                           pool_ksize=(2, 2), \n",
    "                           pool_strides=(2, 2))\n",
    "    network = conv2d_maxpool(network, conv_num_outputs=150,\n",
    "                           conv_ksize=(5, 5),\n",
    "                           conv_strides=(1, 1),\n",
    "                           pool_ksize=(2, 2),\n",
    "                           pool_strides=(2, 2))\n",
    "    #network = conv2d_maxpool(network, 64, (5,5), (1,1), (2,2), (2,2))\n",
    "\n",
    "\n",
    "    # TODO: Apply a Flatten Layer\n",
    "    # Function Definition from Above:\n",
    "    #   flatten(x_tensor) \n",
    "    network = flatten(network)\n",
    "\n",
    "    # TODO: Apply 1, 2, or 3 Fully Connected Layers\n",
    "    #    Play around with different number of outputs\n",
    "    # Function Definition from Above:\n",
    "    #   fully_conn(x_tensor, num_outputs)\n",
    "\n",
    "    network = fully_conn(network,1024)\n",
    "    network = tf.nn.dropout(network, keep_prob)\n",
    "    \n",
    "    # TODO: Apply an Output Layer\n",
    "    #    Set this to the number of classes\n",
    "    # Function Definition from Above:\n",
    "    #   output(x_tensor, num_outputs)\n",
    "\n",
    "    logits = output(network, 10)\n",
    "\n",
    "# TODO: return output\n",
    "    return logits\n",
    "\n",
    "\n",
    "\"\"\"\n",
    "DON'T MODIFY ANYTHING IN THIS CELL THAT IS BELOW THIS LINE\n",
    "\"\"\"\n",
    "\n",
    "##############################\n",
    "## Build the Neural Network ##\n",
    "##############################\n",
    "\n",
    "# Remove previous weights, bias, inputs, etc..\n",
    "tf.reset_default_graph()\n",
    "\n",
    "# Inputs\n",
    "x = neural_net_image_input((32, 32, 3))\n",
    "y = neural_net_label_input(10)\n",
    "keep_prob = neural_net_keep_prob_input()\n",
    "\n",
    "# Model\n",
    "logits = conv_net(x, keep_prob)\n",
    "\n",
    "# Name logits Tensor, so that is can be loaded from disk after training\n",
    "logits = tf.identity(logits, name='logits')\n",
    "\n",
    "# Loss and Optimizer\n",
    "cost = tf.reduce_mean(tf.nn.softmax_cross_entropy_with_logits(logits=logits, labels=y))\n",
    "optimizer = tf.train.AdamOptimizer().minimize(cost)\n",
    "\n",
    "# Accuracy\n",
    "correct_pred = tf.equal(tf.argmax(logits, 1), tf.argmax(y, 1))\n",
    "accuracy = tf.reduce_mean(tf.cast(correct_pred, tf.float32), name='accuracy')\n",
    "\n",
    "tests.test_conv_net(conv_net)"
   ]
  },
  {
   "cell_type": "markdown",
   "metadata": {},
   "source": [
    "## Train the Neural Network\n",
    "### Single Optimization\n",
    "Implement the function `train_neural_network` to do a single optimization.  The optimization should use `optimizer` to optimize in `session` with a `feed_dict` of the following:\n",
    "* `x` for image input\n",
    "* `y` for labels\n",
    "* `keep_prob` for keep probability for dropout\n",
    "\n",
    "This function will be called for each batch, so `tf.global_variables_initializer()` has already been called.\n",
    "\n",
    "Note: Nothing needs to be returned. This function is only optimizing the neural network."
   ]
  },
  {
   "cell_type": "code",
   "execution_count": 14,
   "metadata": {
    "collapsed": false
   },
   "outputs": [
    {
     "name": "stdout",
     "output_type": "stream",
     "text": [
      "Tests Passed\n"
     ]
    }
   ],
   "source": [
    "def train_neural_network(session, optimizer, keep_probability, feature_batch, label_batch):\n",
    "    \"\"\"\n",
    "    Optimize the session on a batch of images and labels\n",
    "    : session: Current TensorFlow session\n",
    "    : optimizer: TensorFlow optimizer function\n",
    "    : keep_probability: keep probability\n",
    "    : feature_batch: Batch of Numpy image data\n",
    "    : label_batch: Batch of Numpy label data\n",
    "    \"\"\"\n",
    "    # TODO: Implement Function\n",
    "    session.run(optimizer,feed_dict={x: feature_batch,y: label_batch, keep_prob: keep_probability})\n",
    "    \n",
    "\n",
    "\n",
    "\"\"\"\n",
    "DON'T MODIFY ANYTHING IN THIS CELL THAT IS BELOW THIS LINE\n",
    "\"\"\"\n",
    "tests.test_train_nn(train_neural_network)"
   ]
  },
  {
   "cell_type": "markdown",
   "metadata": {},
   "source": [
    "### Show Stats\n",
    "Implement the function `print_stats` to print loss and validation accuracy.  Use the global variables `valid_features` and `valid_labels` to calculate validation accuracy.  Use a keep probability of `1.0` to calculate the loss and validation accuracy."
   ]
  },
  {
   "cell_type": "code",
   "execution_count": 15,
   "metadata": {
    "collapsed": false
   },
   "outputs": [],
   "source": [
    "def print_stats(session, feature_batch, label_batch, cost, accuracy):\n",
    "    \"\"\"\n",
    "    Print information about loss and validation accuracy\n",
    "    : session: Current TensorFlow session\n",
    "    : feature_batch: Batch of Numpy image data\n",
    "    : label_batch: Batch of Numpy label data\n",
    "    : cost: TensorFlow cost function\n",
    "    : accuracy: TensorFlow accuracy function\n",
    "    \"\"\"\n",
    "    loss = session.run(cost,\n",
    "                       feed_dict={x: feature_batch,\n",
    "                                  y: label_batch,\n",
    "                                  keep_prob: 1.0})\n",
    "    \n",
    "    valid_acc = session.run(accuracy, \n",
    "                            feed_dict={x: valid_features,\n",
    "                                       y: valid_labels,\n",
    "                                       keep_prob: 1.0})\n",
    "    \n",
    "    print('Loss: {:>15.4f} Validation Accuracy: {:.4f}'.format(loss, valid_acc))\n",
    "    "
   ]
  },
  {
   "cell_type": "markdown",
   "metadata": {},
   "source": [
    "### Hyperparameters\n",
    "Tune the following parameters:\n",
    "* Set `epochs` to the number of iterations until the network stops learning or start overfitting\n",
    "* Set `batch_size` to the highest number that your machine has memory for.  Most people set them to common sizes of memory:\n",
    " * 64\n",
    " * 128\n",
    " * 256\n",
    " * ...\n",
    "* Set `keep_probability` to the probability of keeping a node using dropout"
   ]
  },
  {
   "cell_type": "code",
   "execution_count": 18,
   "metadata": {
    "collapsed": true
   },
   "outputs": [],
   "source": [
    "# TODO: Tune Parameters\n",
    "epochs = 50\n",
    "batch_size = 256\n",
    "keep_probability = 0.8"
   ]
  },
  {
   "cell_type": "markdown",
   "metadata": {},
   "source": [
    "### Train on a Single CIFAR-10 Batch\n",
    "Instead of training the neural network on all the CIFAR-10 batches of data, let's use a single batch. This should save time while you iterate on the model to get a better accuracy.  Once the final validation accuracy is 50% or greater, run the model on all the data in the next section."
   ]
  },
  {
   "cell_type": "code",
   "execution_count": 19,
   "metadata": {
    "collapsed": false,
    "scrolled": false
   },
   "outputs": [
    {
     "name": "stdout",
     "output_type": "stream",
     "text": [
      "Checking the Training on a Single Batch...\n",
      "Epoch  1, CIFAR-10 Batch 1:  Loss:          9.9451 Validation Accuracy: 0.2050\n",
      "Epoch  2, CIFAR-10 Batch 1:  Loss:          5.6619 Validation Accuracy: 0.2482\n",
      "Epoch  3, CIFAR-10 Batch 1:  Loss:          3.9762 Validation Accuracy: 0.2648\n",
      "Epoch  4, CIFAR-10 Batch 1:  Loss:          3.6919 Validation Accuracy: 0.3066\n",
      "Epoch  5, CIFAR-10 Batch 1:  Loss:          2.9296 Validation Accuracy: 0.3150\n",
      "Epoch  6, CIFAR-10 Batch 1:  Loss:          2.7100 Validation Accuracy: 0.3560\n",
      "Epoch  7, CIFAR-10 Batch 1:  Loss:          2.5350 Validation Accuracy: 0.3562\n",
      "Epoch  8, CIFAR-10 Batch 1:  Loss:          1.8862 Validation Accuracy: 0.3710\n",
      "Epoch  9, CIFAR-10 Batch 1:  Loss:          1.6204 Validation Accuracy: 0.3820\n",
      "Epoch 10, CIFAR-10 Batch 1:  Loss:          1.8271 Validation Accuracy: 0.3962\n",
      "Epoch 11, CIFAR-10 Batch 1:  Loss:          0.8578 Validation Accuracy: 0.3968\n",
      "Epoch 12, CIFAR-10 Batch 1:  Loss:          0.8248 Validation Accuracy: 0.4126\n",
      "Epoch 13, CIFAR-10 Batch 1:  Loss:          0.7794 Validation Accuracy: 0.4060\n",
      "Epoch 14, CIFAR-10 Batch 1:  Loss:          0.7946 Validation Accuracy: 0.4030\n",
      "Epoch 15, CIFAR-10 Batch 1:  Loss:          0.5488 Validation Accuracy: 0.4084\n",
      "Epoch 16, CIFAR-10 Batch 1:  Loss:          0.5225 Validation Accuracy: 0.3946\n",
      "Epoch 17, CIFAR-10 Batch 1:  Loss:          0.3673 Validation Accuracy: 0.3918\n",
      "Epoch 18, CIFAR-10 Batch 1:  Loss:          0.3410 Validation Accuracy: 0.3924\n",
      "Epoch 19, CIFAR-10 Batch 1:  Loss:          0.3676 Validation Accuracy: 0.4006\n",
      "Epoch 20, CIFAR-10 Batch 1:  Loss:          0.2520 Validation Accuracy: 0.3932\n",
      "Epoch 21, CIFAR-10 Batch 1:  Loss:          0.2529 Validation Accuracy: 0.4046\n",
      "Epoch 22, CIFAR-10 Batch 1:  Loss:          0.2236 Validation Accuracy: 0.4136\n",
      "Epoch 23, CIFAR-10 Batch 1:  Loss:          0.2194 Validation Accuracy: 0.4100\n",
      "Epoch 24, CIFAR-10 Batch 1:  Loss:          0.2154 Validation Accuracy: 0.4140\n",
      "Epoch 25, CIFAR-10 Batch 1:  Loss:          0.1805 Validation Accuracy: 0.4156\n",
      "Epoch 26, CIFAR-10 Batch 1:  Loss:          0.2062 Validation Accuracy: 0.4254\n",
      "Epoch 27, CIFAR-10 Batch 1:  Loss:          0.1334 Validation Accuracy: 0.4262\n",
      "Epoch 28, CIFAR-10 Batch 1:  Loss:          0.1677 Validation Accuracy: 0.4180\n",
      "Epoch 29, CIFAR-10 Batch 1:  Loss:          0.1508 Validation Accuracy: 0.4244\n",
      "Epoch 30, CIFAR-10 Batch 1:  Loss:          0.1440 Validation Accuracy: 0.4234\n",
      "Epoch 31, CIFAR-10 Batch 1:  Loss:          0.1501 Validation Accuracy: 0.4298\n",
      "Epoch 32, CIFAR-10 Batch 1:  Loss:          0.1345 Validation Accuracy: 0.4284\n",
      "Epoch 33, CIFAR-10 Batch 1:  Loss:          0.1382 Validation Accuracy: 0.4278\n",
      "Epoch 34, CIFAR-10 Batch 1:  Loss:          0.0948 Validation Accuracy: 0.4216\n",
      "Epoch 35, CIFAR-10 Batch 1:  Loss:          0.1228 Validation Accuracy: 0.4352\n",
      "Epoch 36, CIFAR-10 Batch 1:  Loss:          0.1218 Validation Accuracy: 0.4254\n",
      "Epoch 37, CIFAR-10 Batch 1:  Loss:          0.0902 Validation Accuracy: 0.4384\n",
      "Epoch 38, CIFAR-10 Batch 1:  Loss:          0.1186 Validation Accuracy: 0.4366\n",
      "Epoch 39, CIFAR-10 Batch 1:  Loss:          0.0975 Validation Accuracy: 0.4324\n",
      "Epoch 40, CIFAR-10 Batch 1:  Loss:          0.0706 Validation Accuracy: 0.4428\n",
      "Epoch 41, CIFAR-10 Batch 1:  Loss:          0.0693 Validation Accuracy: 0.4298\n",
      "Epoch 42, CIFAR-10 Batch 1:  Loss:          0.0628 Validation Accuracy: 0.4212\n",
      "Epoch 43, CIFAR-10 Batch 1:  Loss:          0.0644 Validation Accuracy: 0.4420\n",
      "Epoch 44, CIFAR-10 Batch 1:  Loss:          0.0914 Validation Accuracy: 0.4418\n",
      "Epoch 45, CIFAR-10 Batch 1:  Loss:          0.0731 Validation Accuracy: 0.4326\n",
      "Epoch 46, CIFAR-10 Batch 1:  Loss:          0.0745 Validation Accuracy: 0.4300\n",
      "Epoch 47, CIFAR-10 Batch 1:  Loss:          0.0618 Validation Accuracy: 0.4376\n",
      "Epoch 48, CIFAR-10 Batch 1:  Loss:          0.0817 Validation Accuracy: 0.4416\n",
      "Epoch 49, CIFAR-10 Batch 1:  Loss:          0.0689 Validation Accuracy: 0.4340\n",
      "Epoch 50, CIFAR-10 Batch 1:  Loss:          0.0372 Validation Accuracy: 0.4476\n"
     ]
    }
   ],
   "source": [
    "\"\"\"\n",
    "DON'T MODIFY ANYTHING IN THIS CELL\n",
    "\"\"\"\n",
    "print('Checking the Training on a Single Batch...')\n",
    "with tf.Session() as sess:\n",
    "    # Initializing the variables\n",
    "    sess.run(tf.global_variables_initializer())\n",
    "    \n",
    "    # Training cycle\n",
    "    for epoch in range(epochs):\n",
    "        batch_i = 1\n",
    "        for batch_features, batch_labels in helper.load_preprocess_training_batch(batch_i, batch_size):\n",
    "            train_neural_network(sess, optimizer, keep_probability, batch_features, batch_labels)\n",
    "        print('Epoch {:>2}, CIFAR-10 Batch {}:  '.format(epoch + 1, batch_i), end='')\n",
    "        print_stats(sess, batch_features, batch_labels, cost, accuracy)"
   ]
  },
  {
   "cell_type": "markdown",
   "metadata": {},
   "source": [
    "### Fully Train the Model\n",
    "Now that you got a good accuracy with a single CIFAR-10 batch, try it with all five batches."
   ]
  },
  {
   "cell_type": "code",
   "execution_count": 20,
   "metadata": {
    "collapsed": false,
    "scrolled": false
   },
   "outputs": [
    {
     "name": "stdout",
     "output_type": "stream",
     "text": [
      "Training...\n",
      "Epoch  1, CIFAR-10 Batch 1:  Loss:          9.3237 Validation Accuracy: 0.1838\n",
      "Epoch  1, CIFAR-10 Batch 2:  Loss:          4.2556 Validation Accuracy: 0.2430\n",
      "Epoch  1, CIFAR-10 Batch 3:  Loss:          3.8117 Validation Accuracy: 0.2718\n",
      "Epoch  1, CIFAR-10 Batch 4:  Loss:          3.6393 Validation Accuracy: 0.2908\n",
      "Epoch  1, CIFAR-10 Batch 5:  Loss:          3.4196 Validation Accuracy: 0.3092\n",
      "Epoch  2, CIFAR-10 Batch 1:  Loss:          3.8802 Validation Accuracy: 0.3250\n",
      "Epoch  2, CIFAR-10 Batch 2:  Loss:          2.5440 Validation Accuracy: 0.3164\n",
      "Epoch  2, CIFAR-10 Batch 3:  Loss:          3.3844 Validation Accuracy: 0.3406\n",
      "Epoch  2, CIFAR-10 Batch 4:  Loss:          2.6320 Validation Accuracy: 0.3516\n",
      "Epoch  2, CIFAR-10 Batch 5:  Loss:          3.5343 Validation Accuracy: 0.3266\n",
      "Epoch  3, CIFAR-10 Batch 1:  Loss:          2.7263 Validation Accuracy: 0.3440\n",
      "Epoch  3, CIFAR-10 Batch 2:  Loss:          2.2940 Validation Accuracy: 0.3540\n",
      "Epoch  3, CIFAR-10 Batch 3:  Loss:          2.3381 Validation Accuracy: 0.3630\n",
      "Epoch  3, CIFAR-10 Batch 4:  Loss:          1.7944 Validation Accuracy: 0.3340\n",
      "Epoch  3, CIFAR-10 Batch 5:  Loss:          2.1990 Validation Accuracy: 0.3298\n",
      "Epoch  4, CIFAR-10 Batch 1:  Loss:          1.5626 Validation Accuracy: 0.3512\n",
      "Epoch  4, CIFAR-10 Batch 2:  Loss:          1.8037 Validation Accuracy: 0.3290\n",
      "Epoch  4, CIFAR-10 Batch 3:  Loss:          1.9154 Validation Accuracy: 0.3544\n",
      "Epoch  4, CIFAR-10 Batch 4:  Loss:          1.7044 Validation Accuracy: 0.3432\n",
      "Epoch  4, CIFAR-10 Batch 5:  Loss:          1.6578 Validation Accuracy: 0.3488\n",
      "Epoch  5, CIFAR-10 Batch 1:  Loss:          1.6270 Validation Accuracy: 0.3754\n",
      "Epoch  5, CIFAR-10 Batch 2:  Loss:          1.6180 Validation Accuracy: 0.3708\n",
      "Epoch  5, CIFAR-10 Batch 3:  Loss:          1.5183 Validation Accuracy: 0.3836\n",
      "Epoch  5, CIFAR-10 Batch 4:  Loss:          1.4439 Validation Accuracy: 0.3702\n",
      "Epoch  5, CIFAR-10 Batch 5:  Loss:          1.4539 Validation Accuracy: 0.3754\n",
      "Epoch  6, CIFAR-10 Batch 1:  Loss:          1.5384 Validation Accuracy: 0.3884\n",
      "Epoch  6, CIFAR-10 Batch 2:  Loss:          1.3516 Validation Accuracy: 0.3930\n",
      "Epoch  6, CIFAR-10 Batch 3:  Loss:          1.4630 Validation Accuracy: 0.3970\n",
      "Epoch  6, CIFAR-10 Batch 4:  Loss:          1.3498 Validation Accuracy: 0.4084\n",
      "Epoch  6, CIFAR-10 Batch 5:  Loss:          1.4167 Validation Accuracy: 0.4028\n",
      "Epoch  7, CIFAR-10 Batch 1:  Loss:          1.4421 Validation Accuracy: 0.4036\n",
      "Epoch  7, CIFAR-10 Batch 2:  Loss:          1.1719 Validation Accuracy: 0.4112\n",
      "Epoch  7, CIFAR-10 Batch 3:  Loss:          1.3682 Validation Accuracy: 0.4078\n",
      "Epoch  7, CIFAR-10 Batch 4:  Loss:          1.2228 Validation Accuracy: 0.3984\n",
      "Epoch  7, CIFAR-10 Batch 5:  Loss:          1.3976 Validation Accuracy: 0.4210\n",
      "Epoch  8, CIFAR-10 Batch 1:  Loss:          1.4007 Validation Accuracy: 0.4232\n",
      "Epoch  8, CIFAR-10 Batch 2:  Loss:          1.2023 Validation Accuracy: 0.4200\n",
      "Epoch  8, CIFAR-10 Batch 3:  Loss:          1.2364 Validation Accuracy: 0.4256\n",
      "Epoch  8, CIFAR-10 Batch 4:  Loss:          1.1767 Validation Accuracy: 0.4146\n",
      "Epoch  8, CIFAR-10 Batch 5:  Loss:          1.3107 Validation Accuracy: 0.4330\n",
      "Epoch  9, CIFAR-10 Batch 1:  Loss:          1.2692 Validation Accuracy: 0.4348\n",
      "Epoch  9, CIFAR-10 Batch 2:  Loss:          1.1003 Validation Accuracy: 0.4304\n",
      "Epoch  9, CIFAR-10 Batch 3:  Loss:          1.1472 Validation Accuracy: 0.4230\n",
      "Epoch  9, CIFAR-10 Batch 4:  Loss:          1.0798 Validation Accuracy: 0.4206\n",
      "Epoch  9, CIFAR-10 Batch 5:  Loss:          1.3404 Validation Accuracy: 0.4334\n",
      "Epoch 10, CIFAR-10 Batch 1:  Loss:          1.1680 Validation Accuracy: 0.4456\n",
      "Epoch 10, CIFAR-10 Batch 2:  Loss:          0.9878 Validation Accuracy: 0.4384\n",
      "Epoch 10, CIFAR-10 Batch 3:  Loss:          1.0921 Validation Accuracy: 0.4274\n",
      "Epoch 10, CIFAR-10 Batch 4:  Loss:          1.0192 Validation Accuracy: 0.4262\n",
      "Epoch 10, CIFAR-10 Batch 5:  Loss:          1.3073 Validation Accuracy: 0.4282\n",
      "Epoch 11, CIFAR-10 Batch 1:  Loss:          1.1416 Validation Accuracy: 0.4510\n",
      "Epoch 11, CIFAR-10 Batch 2:  Loss:          0.9868 Validation Accuracy: 0.4436\n",
      "Epoch 11, CIFAR-10 Batch 3:  Loss:          0.9885 Validation Accuracy: 0.4334\n",
      "Epoch 11, CIFAR-10 Batch 4:  Loss:          0.9536 Validation Accuracy: 0.4420\n",
      "Epoch 11, CIFAR-10 Batch 5:  Loss:          1.1404 Validation Accuracy: 0.4522\n",
      "Epoch 12, CIFAR-10 Batch 1:  Loss:          1.1365 Validation Accuracy: 0.4584\n",
      "Epoch 12, CIFAR-10 Batch 2:  Loss:          0.9110 Validation Accuracy: 0.4516\n",
      "Epoch 12, CIFAR-10 Batch 3:  Loss:          0.9608 Validation Accuracy: 0.4308\n",
      "Epoch 12, CIFAR-10 Batch 4:  Loss:          0.8805 Validation Accuracy: 0.4590\n",
      "Epoch 12, CIFAR-10 Batch 5:  Loss:          1.0744 Validation Accuracy: 0.4530\n",
      "Epoch 13, CIFAR-10 Batch 1:  Loss:          1.0046 Validation Accuracy: 0.4716\n",
      "Epoch 13, CIFAR-10 Batch 2:  Loss:          0.8454 Validation Accuracy: 0.4518\n",
      "Epoch 13, CIFAR-10 Batch 3:  Loss:          0.8733 Validation Accuracy: 0.4662\n",
      "Epoch 13, CIFAR-10 Batch 4:  Loss:          0.9142 Validation Accuracy: 0.4660\n",
      "Epoch 13, CIFAR-10 Batch 5:  Loss:          1.0607 Validation Accuracy: 0.4676\n",
      "Epoch 14, CIFAR-10 Batch 1:  Loss:          1.0482 Validation Accuracy: 0.4776\n",
      "Epoch 14, CIFAR-10 Batch 2:  Loss:          0.8319 Validation Accuracy: 0.4628\n",
      "Epoch 14, CIFAR-10 Batch 3:  Loss:          0.8343 Validation Accuracy: 0.4650\n",
      "Epoch 14, CIFAR-10 Batch 4:  Loss:          0.9125 Validation Accuracy: 0.4616\n",
      "Epoch 14, CIFAR-10 Batch 5:  Loss:          0.9977 Validation Accuracy: 0.4724\n",
      "Epoch 15, CIFAR-10 Batch 1:  Loss:          0.9896 Validation Accuracy: 0.4698\n",
      "Epoch 15, CIFAR-10 Batch 2:  Loss:          0.7808 Validation Accuracy: 0.4756\n",
      "Epoch 15, CIFAR-10 Batch 3:  Loss:          0.7993 Validation Accuracy: 0.4788\n",
      "Epoch 15, CIFAR-10 Batch 4:  Loss:          0.7921 Validation Accuracy: 0.4738\n",
      "Epoch 15, CIFAR-10 Batch 5:  Loss:          0.9630 Validation Accuracy: 0.4788\n",
      "Epoch 16, CIFAR-10 Batch 1:  Loss:          0.9742 Validation Accuracy: 0.4920\n",
      "Epoch 16, CIFAR-10 Batch 2:  Loss:          0.7553 Validation Accuracy: 0.4770\n",
      "Epoch 16, CIFAR-10 Batch 3:  Loss:          0.7687 Validation Accuracy: 0.4846\n",
      "Epoch 16, CIFAR-10 Batch 4:  Loss:          0.9647 Validation Accuracy: 0.4716\n",
      "Epoch 16, CIFAR-10 Batch 5:  Loss:          0.8958 Validation Accuracy: 0.4740\n",
      "Epoch 17, CIFAR-10 Batch 1:  Loss:          0.8692 Validation Accuracy: 0.4850\n",
      "Epoch 17, CIFAR-10 Batch 2:  Loss:          0.7603 Validation Accuracy: 0.4842\n",
      "Epoch 17, CIFAR-10 Batch 3:  Loss:          0.8479 Validation Accuracy: 0.4756\n",
      "Epoch 17, CIFAR-10 Batch 4:  Loss:          0.7563 Validation Accuracy: 0.4880\n",
      "Epoch 17, CIFAR-10 Batch 5:  Loss:          0.7652 Validation Accuracy: 0.4930\n",
      "Epoch 18, CIFAR-10 Batch 1:  Loss:          0.8752 Validation Accuracy: 0.4848\n",
      "Epoch 18, CIFAR-10 Batch 2:  Loss:          0.7038 Validation Accuracy: 0.4850\n",
      "Epoch 18, CIFAR-10 Batch 3:  Loss:          0.8138 Validation Accuracy: 0.4818\n",
      "Epoch 18, CIFAR-10 Batch 4:  Loss:          0.7945 Validation Accuracy: 0.4788\n",
      "Epoch 18, CIFAR-10 Batch 5:  Loss:          0.7849 Validation Accuracy: 0.4914\n",
      "Epoch 19, CIFAR-10 Batch 1:  Loss:          0.8231 Validation Accuracy: 0.4954\n",
      "Epoch 19, CIFAR-10 Batch 2:  Loss:          0.5836 Validation Accuracy: 0.4924\n",
      "Epoch 19, CIFAR-10 Batch 3:  Loss:          0.7401 Validation Accuracy: 0.5008\n",
      "Epoch 19, CIFAR-10 Batch 4:  Loss:          0.6864 Validation Accuracy: 0.4796\n",
      "Epoch 19, CIFAR-10 Batch 5:  Loss:          0.7576 Validation Accuracy: 0.5004\n",
      "Epoch 20, CIFAR-10 Batch 1:  Loss:          0.7900 Validation Accuracy: 0.5098\n",
      "Epoch 20, CIFAR-10 Batch 2:  Loss:          0.5788 Validation Accuracy: 0.5024\n",
      "Epoch 20, CIFAR-10 Batch 3:  Loss:          0.6501 Validation Accuracy: 0.4964\n",
      "Epoch 20, CIFAR-10 Batch 4:  Loss:          0.7374 Validation Accuracy: 0.4910\n",
      "Epoch 20, CIFAR-10 Batch 5:  Loss:          0.8056 Validation Accuracy: 0.5030\n",
      "Epoch 21, CIFAR-10 Batch 1:  Loss:          0.7380 Validation Accuracy: 0.5054\n",
      "Epoch 21, CIFAR-10 Batch 2:  Loss:          0.5863 Validation Accuracy: 0.5130\n",
      "Epoch 21, CIFAR-10 Batch 3:  Loss:          0.7140 Validation Accuracy: 0.4666\n",
      "Epoch 21, CIFAR-10 Batch 4:  Loss:          0.6988 Validation Accuracy: 0.4754\n",
      "Epoch 21, CIFAR-10 Batch 5:  Loss:          0.7515 Validation Accuracy: 0.4998\n",
      "Epoch 22, CIFAR-10 Batch 1:  Loss:          0.6734 Validation Accuracy: 0.5194\n",
      "Epoch 22, CIFAR-10 Batch 2:  Loss:          0.5444 Validation Accuracy: 0.5024\n",
      "Epoch 22, CIFAR-10 Batch 3:  Loss:          0.6623 Validation Accuracy: 0.4880\n",
      "Epoch 22, CIFAR-10 Batch 4:  Loss:          0.6513 Validation Accuracy: 0.5134\n",
      "Epoch 22, CIFAR-10 Batch 5:  Loss:          0.6437 Validation Accuracy: 0.5066\n",
      "Epoch 23, CIFAR-10 Batch 1:  Loss:          0.7618 Validation Accuracy: 0.5132\n",
      "Epoch 23, CIFAR-10 Batch 2:  Loss:          0.4742 Validation Accuracy: 0.5246\n",
      "Epoch 23, CIFAR-10 Batch 3:  Loss:          0.5676 Validation Accuracy: 0.4742\n",
      "Epoch 23, CIFAR-10 Batch 4:  Loss:          0.6854 Validation Accuracy: 0.5080\n",
      "Epoch 23, CIFAR-10 Batch 5:  Loss:          0.5730 Validation Accuracy: 0.5074\n",
      "Epoch 24, CIFAR-10 Batch 1:  Loss:          0.7305 Validation Accuracy: 0.5104\n",
      "Epoch 24, CIFAR-10 Batch 2:  Loss:          0.4435 Validation Accuracy: 0.5192\n",
      "Epoch 24, CIFAR-10 Batch 3:  Loss:          0.4742 Validation Accuracy: 0.5094\n",
      "Epoch 24, CIFAR-10 Batch 4:  Loss:          0.5883 Validation Accuracy: 0.5228\n",
      "Epoch 24, CIFAR-10 Batch 5:  Loss:          0.5351 Validation Accuracy: 0.5210\n",
      "Epoch 25, CIFAR-10 Batch 1:  Loss:          0.6614 Validation Accuracy: 0.5284\n",
      "Epoch 25, CIFAR-10 Batch 2:  Loss:          0.4952 Validation Accuracy: 0.5180\n",
      "Epoch 25, CIFAR-10 Batch 3:  Loss:          0.4586 Validation Accuracy: 0.4994\n",
      "Epoch 25, CIFAR-10 Batch 4:  Loss:          0.6266 Validation Accuracy: 0.4904\n",
      "Epoch 25, CIFAR-10 Batch 5:  Loss:          0.5541 Validation Accuracy: 0.5340\n",
      "Epoch 26, CIFAR-10 Batch 1:  Loss:          0.6579 Validation Accuracy: 0.5312\n",
      "Epoch 26, CIFAR-10 Batch 2:  Loss:          0.3970 Validation Accuracy: 0.5282\n",
      "Epoch 26, CIFAR-10 Batch 3:  Loss:          0.4262 Validation Accuracy: 0.5078\n",
      "Epoch 26, CIFAR-10 Batch 4:  Loss:          0.5547 Validation Accuracy: 0.5116\n",
      "Epoch 26, CIFAR-10 Batch 5:  Loss:          0.4850 Validation Accuracy: 0.5378\n",
      "Epoch 27, CIFAR-10 Batch 1:  Loss:          0.6518 Validation Accuracy: 0.5344\n",
      "Epoch 27, CIFAR-10 Batch 2:  Loss:          0.3736 Validation Accuracy: 0.5340\n",
      "Epoch 27, CIFAR-10 Batch 3:  Loss:          0.4278 Validation Accuracy: 0.5156\n",
      "Epoch 27, CIFAR-10 Batch 4:  Loss:          0.5246 Validation Accuracy: 0.5376\n",
      "Epoch 27, CIFAR-10 Batch 5:  Loss:          0.5170 Validation Accuracy: 0.5432\n",
      "Epoch 28, CIFAR-10 Batch 1:  Loss:          0.6675 Validation Accuracy: 0.5328\n",
      "Epoch 28, CIFAR-10 Batch 2:  Loss:          0.3827 Validation Accuracy: 0.5246\n",
      "Epoch 28, CIFAR-10 Batch 3:  Loss:          0.5010 Validation Accuracy: 0.4858\n",
      "Epoch 28, CIFAR-10 Batch 4:  Loss:          0.5236 Validation Accuracy: 0.5358\n",
      "Epoch 28, CIFAR-10 Batch 5:  Loss:          0.4238 Validation Accuracy: 0.5420\n",
      "Epoch 29, CIFAR-10 Batch 1:  Loss:          0.5343 Validation Accuracy: 0.5412\n",
      "Epoch 29, CIFAR-10 Batch 2:  Loss:          0.3846 Validation Accuracy: 0.5340\n",
      "Epoch 29, CIFAR-10 Batch 3:  Loss:          0.3738 Validation Accuracy: 0.5210\n",
      "Epoch 29, CIFAR-10 Batch 4:  Loss:          0.5398 Validation Accuracy: 0.5298\n",
      "Epoch 29, CIFAR-10 Batch 5:  Loss:          0.3728 Validation Accuracy: 0.5460\n",
      "Epoch 30, CIFAR-10 Batch 1:  Loss:          0.4859 Validation Accuracy: 0.5496\n",
      "Epoch 30, CIFAR-10 Batch 2:  Loss:          0.2802 Validation Accuracy: 0.5254\n",
      "Epoch 30, CIFAR-10 Batch 3:  Loss:          0.2831 Validation Accuracy: 0.5440\n",
      "Epoch 30, CIFAR-10 Batch 4:  Loss:          0.5385 Validation Accuracy: 0.5284\n",
      "Epoch 30, CIFAR-10 Batch 5:  Loss:          0.4866 Validation Accuracy: 0.5224\n",
      "Epoch 31, CIFAR-10 Batch 1:  Loss:          0.5333 Validation Accuracy: 0.5476\n",
      "Epoch 31, CIFAR-10 Batch 2:  Loss:          0.2979 Validation Accuracy: 0.5216\n",
      "Epoch 31, CIFAR-10 Batch 3:  Loss:          0.4103 Validation Accuracy: 0.5276\n",
      "Epoch 31, CIFAR-10 Batch 4:  Loss:          0.3911 Validation Accuracy: 0.5430\n",
      "Epoch 31, CIFAR-10 Batch 5:  Loss:          0.3953 Validation Accuracy: 0.5486\n",
      "Epoch 32, CIFAR-10 Batch 1:  Loss:          0.5038 Validation Accuracy: 0.5390\n",
      "Epoch 32, CIFAR-10 Batch 2:  Loss:          0.3106 Validation Accuracy: 0.5450\n",
      "Epoch 32, CIFAR-10 Batch 3:  Loss:          0.3493 Validation Accuracy: 0.5214\n",
      "Epoch 32, CIFAR-10 Batch 4:  Loss:          0.4493 Validation Accuracy: 0.5412\n",
      "Epoch 32, CIFAR-10 Batch 5:  Loss:          0.3573 Validation Accuracy: 0.5434\n",
      "Epoch 33, CIFAR-10 Batch 1:  Loss:          0.5189 Validation Accuracy: 0.5506\n",
      "Epoch 33, CIFAR-10 Batch 2:  Loss:          0.2820 Validation Accuracy: 0.5482\n",
      "Epoch 33, CIFAR-10 Batch 3:  Loss:          0.3179 Validation Accuracy: 0.5324\n",
      "Epoch 33, CIFAR-10 Batch 4:  Loss:          0.4515 Validation Accuracy: 0.5368\n",
      "Epoch 33, CIFAR-10 Batch 5:  Loss:          0.3339 Validation Accuracy: 0.5516\n",
      "Epoch 34, CIFAR-10 Batch 1:  Loss:          0.4774 Validation Accuracy: 0.5474\n",
      "Epoch 34, CIFAR-10 Batch 2:  Loss:          0.3025 Validation Accuracy: 0.5420\n",
      "Epoch 34, CIFAR-10 Batch 3:  Loss:          0.2830 Validation Accuracy: 0.5362\n",
      "Epoch 34, CIFAR-10 Batch 4:  Loss:          0.4654 Validation Accuracy: 0.5560\n",
      "Epoch 34, CIFAR-10 Batch 5:  Loss:          0.3177 Validation Accuracy: 0.5466\n",
      "Epoch 35, CIFAR-10 Batch 1:  Loss:          0.4146 Validation Accuracy: 0.5484\n",
      "Epoch 35, CIFAR-10 Batch 2:  Loss:          0.2539 Validation Accuracy: 0.5490\n",
      "Epoch 35, CIFAR-10 Batch 3:  Loss:          0.3079 Validation Accuracy: 0.5384\n",
      "Epoch 35, CIFAR-10 Batch 4:  Loss:          0.3482 Validation Accuracy: 0.5504\n",
      "Epoch 35, CIFAR-10 Batch 5:  Loss:          0.3314 Validation Accuracy: 0.5448\n",
      "Epoch 36, CIFAR-10 Batch 1:  Loss:          0.4381 Validation Accuracy: 0.5584\n",
      "Epoch 36, CIFAR-10 Batch 2:  Loss:          0.2063 Validation Accuracy: 0.5550\n",
      "Epoch 36, CIFAR-10 Batch 3:  Loss:          0.2850 Validation Accuracy: 0.5542\n",
      "Epoch 36, CIFAR-10 Batch 4:  Loss:          0.3088 Validation Accuracy: 0.5518\n",
      "Epoch 36, CIFAR-10 Batch 5:  Loss:          0.2408 Validation Accuracy: 0.5522\n",
      "Epoch 37, CIFAR-10 Batch 1:  Loss:          0.3774 Validation Accuracy: 0.5598\n",
      "Epoch 37, CIFAR-10 Batch 2:  Loss:          0.2051 Validation Accuracy: 0.5458\n",
      "Epoch 37, CIFAR-10 Batch 3:  Loss:          0.2621 Validation Accuracy: 0.5612\n",
      "Epoch 37, CIFAR-10 Batch 4:  Loss:          0.3919 Validation Accuracy: 0.5660\n",
      "Epoch 37, CIFAR-10 Batch 5:  Loss:          0.2452 Validation Accuracy: 0.5672\n",
      "Epoch 38, CIFAR-10 Batch 1:  Loss:          0.3861 Validation Accuracy: 0.5550\n",
      "Epoch 38, CIFAR-10 Batch 2:  Loss:          0.1490 Validation Accuracy: 0.5570\n",
      "Epoch 38, CIFAR-10 Batch 3:  Loss:          0.2754 Validation Accuracy: 0.5474\n",
      "Epoch 38, CIFAR-10 Batch 4:  Loss:          0.3373 Validation Accuracy: 0.5662\n",
      "Epoch 38, CIFAR-10 Batch 5:  Loss:          0.2545 Validation Accuracy: 0.5494\n",
      "Epoch 39, CIFAR-10 Batch 1:  Loss:          0.3704 Validation Accuracy: 0.5666\n",
      "Epoch 39, CIFAR-10 Batch 2:  Loss:          0.1808 Validation Accuracy: 0.5490\n",
      "Epoch 39, CIFAR-10 Batch 3:  Loss:          0.2456 Validation Accuracy: 0.5506\n",
      "Epoch 39, CIFAR-10 Batch 4:  Loss:          0.3466 Validation Accuracy: 0.5612\n",
      "Epoch 39, CIFAR-10 Batch 5:  Loss:          0.2406 Validation Accuracy: 0.5528\n",
      "Epoch 40, CIFAR-10 Batch 1:  Loss:          0.3580 Validation Accuracy: 0.5704\n",
      "Epoch 40, CIFAR-10 Batch 2:  Loss:          0.2039 Validation Accuracy: 0.5498\n",
      "Epoch 40, CIFAR-10 Batch 3:  Loss:          0.2467 Validation Accuracy: 0.5598\n",
      "Epoch 40, CIFAR-10 Batch 4:  Loss:          0.3233 Validation Accuracy: 0.5598\n",
      "Epoch 40, CIFAR-10 Batch 5:  Loss:          0.2087 Validation Accuracy: 0.5594\n",
      "Epoch 41, CIFAR-10 Batch 1:  Loss:          0.3636 Validation Accuracy: 0.5600\n",
      "Epoch 41, CIFAR-10 Batch 2:  Loss:          0.2185 Validation Accuracy: 0.5604\n",
      "Epoch 41, CIFAR-10 Batch 3:  Loss:          0.2219 Validation Accuracy: 0.5710\n",
      "Epoch 41, CIFAR-10 Batch 4:  Loss:          0.2533 Validation Accuracy: 0.5744\n",
      "Epoch 41, CIFAR-10 Batch 5:  Loss:          0.1452 Validation Accuracy: 0.5618\n",
      "Epoch 42, CIFAR-10 Batch 1:  Loss:          0.2448 Validation Accuracy: 0.5744\n",
      "Epoch 42, CIFAR-10 Batch 2:  Loss:          0.1706 Validation Accuracy: 0.5464\n",
      "Epoch 42, CIFAR-10 Batch 3:  Loss:          0.2794 Validation Accuracy: 0.5630\n",
      "Epoch 42, CIFAR-10 Batch 4:  Loss:          0.2442 Validation Accuracy: 0.5766\n",
      "Epoch 42, CIFAR-10 Batch 5:  Loss:          0.1191 Validation Accuracy: 0.5758\n",
      "Epoch 43, CIFAR-10 Batch 1:  Loss:          0.3102 Validation Accuracy: 0.5732\n",
      "Epoch 43, CIFAR-10 Batch 2:  Loss:          0.1948 Validation Accuracy: 0.5604\n",
      "Epoch 43, CIFAR-10 Batch 3:  Loss:          0.2463 Validation Accuracy: 0.5628\n",
      "Epoch 43, CIFAR-10 Batch 4:  Loss:          0.2966 Validation Accuracy: 0.5680\n",
      "Epoch 43, CIFAR-10 Batch 5:  Loss:          0.1458 Validation Accuracy: 0.5616\n",
      "Epoch 44, CIFAR-10 Batch 1:  Loss:          0.3106 Validation Accuracy: 0.5600\n",
      "Epoch 44, CIFAR-10 Batch 2:  Loss:          0.1592 Validation Accuracy: 0.5710\n",
      "Epoch 44, CIFAR-10 Batch 3:  Loss:          0.2345 Validation Accuracy: 0.5652\n",
      "Epoch 44, CIFAR-10 Batch 4:  Loss:          0.2955 Validation Accuracy: 0.5764\n",
      "Epoch 44, CIFAR-10 Batch 5:  Loss:          0.1712 Validation Accuracy: 0.5570\n",
      "Epoch 45, CIFAR-10 Batch 1:  Loss:          0.3172 Validation Accuracy: 0.5684\n",
      "Epoch 45, CIFAR-10 Batch 2:  Loss:          0.1461 Validation Accuracy: 0.5642\n",
      "Epoch 45, CIFAR-10 Batch 3:  Loss:          0.2469 Validation Accuracy: 0.5802\n",
      "Epoch 45, CIFAR-10 Batch 4:  Loss:          0.2809 Validation Accuracy: 0.5710\n",
      "Epoch 45, CIFAR-10 Batch 5:  Loss:          0.1357 Validation Accuracy: 0.5634\n",
      "Epoch 46, CIFAR-10 Batch 1:  Loss:          0.2229 Validation Accuracy: 0.5810\n",
      "Epoch 46, CIFAR-10 Batch 2:  Loss:          0.2187 Validation Accuracy: 0.5724\n",
      "Epoch 46, CIFAR-10 Batch 3:  Loss:          0.1672 Validation Accuracy: 0.5596\n",
      "Epoch 46, CIFAR-10 Batch 4:  Loss:          0.2429 Validation Accuracy: 0.5852\n",
      "Epoch 46, CIFAR-10 Batch 5:  Loss:          0.0977 Validation Accuracy: 0.5586\n",
      "Epoch 47, CIFAR-10 Batch 1:  Loss:          0.3143 Validation Accuracy: 0.5566\n",
      "Epoch 47, CIFAR-10 Batch 2:  Loss:          0.1511 Validation Accuracy: 0.5540\n",
      "Epoch 47, CIFAR-10 Batch 3:  Loss:          0.1388 Validation Accuracy: 0.5766\n",
      "Epoch 47, CIFAR-10 Batch 4:  Loss:          0.2217 Validation Accuracy: 0.5768\n",
      "Epoch 47, CIFAR-10 Batch 5:  Loss:          0.1238 Validation Accuracy: 0.5612\n",
      "Epoch 48, CIFAR-10 Batch 1:  Loss:          0.1933 Validation Accuracy: 0.5706\n",
      "Epoch 48, CIFAR-10 Batch 2:  Loss:          0.1693 Validation Accuracy: 0.5628\n",
      "Epoch 48, CIFAR-10 Batch 3:  Loss:          0.2564 Validation Accuracy: 0.5380\n",
      "Epoch 48, CIFAR-10 Batch 4:  Loss:          0.2498 Validation Accuracy: 0.5782\n",
      "Epoch 48, CIFAR-10 Batch 5:  Loss:          0.1534 Validation Accuracy: 0.5572\n",
      "Epoch 49, CIFAR-10 Batch 1:  Loss:          0.2821 Validation Accuracy: 0.5654\n",
      "Epoch 49, CIFAR-10 Batch 2:  Loss:          0.2560 Validation Accuracy: 0.5600\n",
      "Epoch 49, CIFAR-10 Batch 3:  Loss:          0.1447 Validation Accuracy: 0.5894\n",
      "Epoch 49, CIFAR-10 Batch 4:  Loss:          0.2558 Validation Accuracy: 0.5874\n",
      "Epoch 49, CIFAR-10 Batch 5:  Loss:          0.3189 Validation Accuracy: 0.5388\n",
      "Epoch 50, CIFAR-10 Batch 1:  Loss:          0.1825 Validation Accuracy: 0.5702\n",
      "Epoch 50, CIFAR-10 Batch 2:  Loss:          0.1710 Validation Accuracy: 0.5788\n",
      "Epoch 50, CIFAR-10 Batch 3:  Loss:          0.1915 Validation Accuracy: 0.5758\n",
      "Epoch 50, CIFAR-10 Batch 4:  Loss:          0.3029 Validation Accuracy: 0.5816\n",
      "Epoch 50, CIFAR-10 Batch 5:  Loss:          0.1265 Validation Accuracy: 0.5624\n"
     ]
    }
   ],
   "source": [
    "\"\"\"\n",
    "DON'T MODIFY ANYTHING IN THIS CELL\n",
    "\"\"\"\n",
    "save_model_path = './image_classification'\n",
    "\n",
    "print('Training...')\n",
    "with tf.Session() as sess:\n",
    "    # Initializing the variables\n",
    "    sess.run(tf.global_variables_initializer())\n",
    "    \n",
    "    # Training cycle\n",
    "    for epoch in range(epochs):\n",
    "        # Loop over all batches\n",
    "        n_batches = 5\n",
    "        for batch_i in range(1, n_batches + 1):\n",
    "            for batch_features, batch_labels in helper.load_preprocess_training_batch(batch_i, batch_size):\n",
    "                train_neural_network(sess, optimizer, keep_probability, batch_features, batch_labels)\n",
    "            print('Epoch {:>2}, CIFAR-10 Batch {}:  '.format(epoch + 1, batch_i), end='')\n",
    "            print_stats(sess, batch_features, batch_labels, cost, accuracy)\n",
    "            \n",
    "    # Save Model\n",
    "    saver = tf.train.Saver()\n",
    "    save_path = saver.save(sess, save_model_path)"
   ]
  },
  {
   "cell_type": "markdown",
   "metadata": {},
   "source": [
    "# Checkpoint\n",
    "The model has been saved to disk.\n",
    "## Test Model\n",
    "Test your model against the test dataset.  This will be your final accuracy. You should have an accuracy greater than 50%. If you don't, keep tweaking the model architecture and parameters."
   ]
  },
  {
   "cell_type": "code",
   "execution_count": 21,
   "metadata": {
    "collapsed": false
   },
   "outputs": [
    {
     "name": "stdout",
     "output_type": "stream",
     "text": [
      "Testing Accuracy: 0.57001953125\n",
      "\n"
     ]
    },
    {
     "data": {
      "image/png": "[encoded data removed]",
      "text/plain": [
       "<matplotlib.figure.Figure at 0x11b592908>"
      ]
     },
     "metadata": {
      "image/png": {
       "height": 319,
       "width": 355
      }
     },
     "output_type": "display_data"
    }
   ],
   "source": [
    "\"\"\"\n",
    "DON'T MODIFY ANYTHING IN THIS CELL\n",
    "\"\"\"\n",
    "%matplotlib inline\n",
    "%config InlineBackend.figure_format = 'retina'\n",
    "\n",
    "import tensorflow as tf\n",
    "import pickle\n",
    "import helper\n",
    "import random\n",
    "\n",
    "# Set batch size if not already set\n",
    "try:\n",
    "    if batch_size:\n",
    "        pass\n",
    "except NameError:\n",
    "    batch_size = 64\n",
    "\n",
    "save_model_path = './image_classification'\n",
    "n_samples = 4\n",
    "top_n_predictions = 3\n",
    "\n",
    "def test_model():\n",
    "    \"\"\"\n",
    "    Test the saved model against the test dataset\n",
    "    \"\"\"\n",
    "\n",
    "    test_features, test_labels = pickle.load(open('preprocess_test.p', mode='rb'))\n",
    "    loaded_graph = tf.Graph()\n",
    "\n",
    "    with tf.Session(graph=loaded_graph) as sess:\n",
    "        # Load model\n",
    "        loader = tf.train.import_meta_graph(save_model_path + '.meta')\n",
    "        loader.restore(sess, save_model_path)\n",
    "\n",
    "        # Get Tensors from loaded model\n",
    "        loaded_x = loaded_graph.get_tensor_by_name('x:0')\n",
    "        loaded_y = loaded_graph.get_tensor_by_name('y:0')\n",
    "        loaded_keep_prob = loaded_graph.get_tensor_by_name('keep_prob:0')\n",
    "        loaded_logits = loaded_graph.get_tensor_by_name('logits:0')\n",
    "        loaded_acc = loaded_graph.get_tensor_by_name('accuracy:0')\n",
    "        \n",
    "        # Get accuracy in batches for memory limitations\n",
    "        test_batch_acc_total = 0\n",
    "        test_batch_count = 0\n",
    "        \n",
    "        for test_feature_batch, test_label_batch in helper.batch_features_labels(test_features, test_labels, batch_size):\n",
    "            test_batch_acc_total += sess.run(\n",
    "                loaded_acc,\n",
    "                feed_dict={loaded_x: test_feature_batch, loaded_y: test_label_batch, loaded_keep_prob: 1.0})\n",
    "            test_batch_count += 1\n",
    "\n",
    "        print('Testing Accuracy: {}\\n'.format(test_batch_acc_total/test_batch_count))\n",
    "\n",
    "        # Print Random Samples\n",
    "        random_test_features, random_test_labels = tuple(zip(*random.sample(list(zip(test_features, test_labels)), n_samples)))\n",
    "        random_test_predictions = sess.run(\n",
    "            tf.nn.top_k(tf.nn.softmax(loaded_logits), top_n_predictions),\n",
    "            feed_dict={loaded_x: random_test_features, loaded_y: random_test_labels, loaded_keep_prob: 1.0})\n",
    "        helper.display_image_predictions(random_test_features, random_test_labels, random_test_predictions)\n",
    "\n",
    "\n",
    "test_model()"
   ]
  },
  {
   "cell_type": "markdown",
   "metadata": {},
   "source": [
    "## Why 50-80% Accuracy?\n",
    "You might be wondering why you can't get an accuracy any higher. First things first, 50% isn't bad for a simple CNN.  Pure guessing would get you 10% accuracy. However, you might notice people are getting scores [well above 80%](http://rodrigob.github.io/are_we_there_yet/build/classification_datasets_results.html#43494641522d3130).  That's because we haven't taught you all there is to know about neural networks. We still need to cover a few more techniques.\n",
    "## Submitting This Project\n",
    "When submitting this project, make sure to run all the cells before saving the notebook.  Save the notebook file as \"dlnd_image_classification.ipynb\" and save it as a HTML file under \"File\" -> \"Download as\".  Include the \"helper.py\" and \"problem_unittests.py\" files in your submission."
   ]
  },
  {
   "cell_type": "code",
   "execution_count": null,
   "metadata": {
    "collapsed": true
   },
   "outputs": [],
   "source": []
  }
 ],
 "metadata": {
  "kernelspec": {
   "display_name": "Python 3",
   "language": "python",
   "name": "python3"
  },
  "language_info": {
   "codemirror_mode": {
    "name": "ipython",
    "version": 3
   },
   "file_extension": ".py",
   "mimetype": "text/x-python",
   "name": "python",
   "nbconvert_exporter": "python",
   "pygments_lexer": "ipython3",
   "version": "3.6.0"
  }
 },
 "nbformat": 4,
 "nbformat_minor": 0
}
